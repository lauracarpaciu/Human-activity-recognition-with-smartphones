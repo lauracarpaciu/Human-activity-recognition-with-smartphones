{
 "cells": [
  {
   "cell_type": "raw",
   "metadata": {},
   "source": [
    "Loading the dataset"
   ]
  },
  {
   "cell_type": "code",
   "execution_count": 24,
   "metadata": {},
   "outputs": [
    {
     "name": "stdout",
     "output_type": "stream",
     "text": [
      "   tBodyAcc-mean()-X  tBodyAcc-mean()-Y  tBodyAcc-mean()-Z  tBodyAcc-std()-X  \\\n",
      "0           0.288585          -0.020294          -0.132905         -0.995279   \n",
      "1           0.278419          -0.016411          -0.123520         -0.998245   \n",
      "2           0.279653          -0.019467          -0.113462         -0.995380   \n",
      "3           0.279174          -0.026201          -0.123283         -0.996091   \n",
      "4           0.276629          -0.016570          -0.115362         -0.998139   \n",
      "\n",
      "   tBodyAcc-std()-Y  tBodyAcc-std()-Z  tBodyAcc-mad()-X  tBodyAcc-mad()-Y  \\\n",
      "0         -0.983111         -0.913526         -0.995112         -0.983185   \n",
      "1         -0.975300         -0.960322         -0.998807         -0.974914   \n",
      "2         -0.967187         -0.978944         -0.996520         -0.963668   \n",
      "3         -0.983403         -0.990675         -0.997099         -0.982750   \n",
      "4         -0.980817         -0.990482         -0.998321         -0.979672   \n",
      "\n",
      "   tBodyAcc-mad()-Z  tBodyAcc-max()-X  ...  fBodyBodyGyroJerkMag-kurtosis()  \\\n",
      "0         -0.923527         -0.934724  ...                        -0.710304   \n",
      "1         -0.957686         -0.943068  ...                        -0.861499   \n",
      "2         -0.977469         -0.938692  ...                        -0.760104   \n",
      "3         -0.989302         -0.938692  ...                        -0.482845   \n",
      "4         -0.990441         -0.942469  ...                        -0.699205   \n",
      "\n",
      "   angle(tBodyAccMean,gravity)  angle(tBodyAccJerkMean),gravityMean)  \\\n",
      "0                    -0.112754                              0.030400   \n",
      "1                     0.053477                             -0.007435   \n",
      "2                    -0.118559                              0.177899   \n",
      "3                    -0.036788                             -0.012892   \n",
      "4                     0.123320                              0.122542   \n",
      "\n",
      "   angle(tBodyGyroMean,gravityMean)  angle(tBodyGyroJerkMean,gravityMean)  \\\n",
      "0                         -0.464761                             -0.018446   \n",
      "1                         -0.732626                              0.703511   \n",
      "2                          0.100699                              0.808529   \n",
      "3                          0.640011                             -0.485366   \n",
      "4                          0.693578                             -0.615971   \n",
      "\n",
      "   angle(X,gravityMean)  angle(Y,gravityMean)  angle(Z,gravityMean)  subject  \\\n",
      "0             -0.841247              0.179941             -0.058627        1   \n",
      "1             -0.844788              0.180289             -0.054317        1   \n",
      "2             -0.848933              0.180637             -0.049118        1   \n",
      "3             -0.848649              0.181935             -0.047663        1   \n",
      "4             -0.847865              0.185151             -0.043892        1   \n",
      "\n",
      "   Activity  \n",
      "0  STANDING  \n",
      "1  STANDING  \n",
      "2  STANDING  \n",
      "3  STANDING  \n",
      "4  STANDING  \n",
      "\n",
      "[5 rows x 563 columns]\n",
      "tBodyAcc-mean()-X                       float64\n",
      "tBodyAcc-mean()-Y                       float64\n",
      "tBodyAcc-mean()-Z                       float64\n",
      "tBodyAcc-std()-X                        float64\n",
      "tBodyAcc-std()-Y                        float64\n",
      "tBodyAcc-std()-Z                        float64\n",
      "tBodyAcc-mad()-X                        float64\n",
      "tBodyAcc-mad()-Y                        float64\n",
      "tBodyAcc-mad()-Z                        float64\n",
      "tBodyAcc-max()-X                        float64\n",
      "tBodyAcc-max()-Y                        float64\n",
      "tBodyAcc-max()-Z                        float64\n",
      "tBodyAcc-min()-X                        float64\n",
      "tBodyAcc-min()-Y                        float64\n",
      "tBodyAcc-min()-Z                        float64\n",
      "tBodyAcc-sma()                          float64\n",
      "tBodyAcc-energy()-X                     float64\n",
      "tBodyAcc-energy()-Y                     float64\n",
      "tBodyAcc-energy()-Z                     float64\n",
      "tBodyAcc-iqr()-X                        float64\n",
      "tBodyAcc-iqr()-Y                        float64\n",
      "tBodyAcc-iqr()-Z                        float64\n",
      "tBodyAcc-entropy()-X                    float64\n",
      "tBodyAcc-entropy()-Y                    float64\n",
      "tBodyAcc-entropy()-Z                    float64\n",
      "tBodyAcc-arCoeff()-X,1                  float64\n",
      "tBodyAcc-arCoeff()-X,2                  float64\n",
      "tBodyAcc-arCoeff()-X,3                  float64\n",
      "tBodyAcc-arCoeff()-X,4                  float64\n",
      "tBodyAcc-arCoeff()-Y,1                  float64\n",
      "                                         ...   \n",
      "fBodyBodyGyroMag-sma()                  float64\n",
      "fBodyBodyGyroMag-energy()               float64\n",
      "fBodyBodyGyroMag-iqr()                  float64\n",
      "fBodyBodyGyroMag-entropy()              float64\n",
      "fBodyBodyGyroMag-maxInds                float64\n",
      "fBodyBodyGyroMag-meanFreq()             float64\n",
      "fBodyBodyGyroMag-skewness()             float64\n",
      "fBodyBodyGyroMag-kurtosis()             float64\n",
      "fBodyBodyGyroJerkMag-mean()             float64\n",
      "fBodyBodyGyroJerkMag-std()              float64\n",
      "fBodyBodyGyroJerkMag-mad()              float64\n",
      "fBodyBodyGyroJerkMag-max()              float64\n",
      "fBodyBodyGyroJerkMag-min()              float64\n",
      "fBodyBodyGyroJerkMag-sma()              float64\n",
      "fBodyBodyGyroJerkMag-energy()           float64\n",
      "fBodyBodyGyroJerkMag-iqr()              float64\n",
      "fBodyBodyGyroJerkMag-entropy()          float64\n",
      "fBodyBodyGyroJerkMag-maxInds            float64\n",
      "fBodyBodyGyroJerkMag-meanFreq()         float64\n",
      "fBodyBodyGyroJerkMag-skewness()         float64\n",
      "fBodyBodyGyroJerkMag-kurtosis()         float64\n",
      "angle(tBodyAccMean,gravity)             float64\n",
      "angle(tBodyAccJerkMean),gravityMean)    float64\n",
      "angle(tBodyGyroMean,gravityMean)        float64\n",
      "angle(tBodyGyroJerkMean,gravityMean)    float64\n",
      "angle(X,gravityMean)                    float64\n",
      "angle(Y,gravityMean)                    float64\n",
      "angle(Z,gravityMean)                    float64\n",
      "subject                                   int64\n",
      "Activity                                 object\n",
      "Length: 563, dtype: object\n",
      "tBodyAcc-mean()-X                       0\n",
      "tBodyAcc-mean()-Y                       0\n",
      "tBodyAcc-mean()-Z                       0\n",
      "tBodyAcc-std()-X                        0\n",
      "tBodyAcc-std()-Y                        0\n",
      "tBodyAcc-std()-Z                        0\n",
      "tBodyAcc-mad()-X                        0\n",
      "tBodyAcc-mad()-Y                        0\n",
      "tBodyAcc-mad()-Z                        0\n",
      "tBodyAcc-max()-X                        0\n",
      "tBodyAcc-max()-Y                        0\n",
      "tBodyAcc-max()-Z                        0\n",
      "tBodyAcc-min()-X                        0\n",
      "tBodyAcc-min()-Y                        0\n",
      "tBodyAcc-min()-Z                        0\n",
      "tBodyAcc-sma()                          0\n",
      "tBodyAcc-energy()-X                     0\n",
      "tBodyAcc-energy()-Y                     0\n",
      "tBodyAcc-energy()-Z                     0\n",
      "tBodyAcc-iqr()-X                        0\n",
      "tBodyAcc-iqr()-Y                        0\n",
      "tBodyAcc-iqr()-Z                        0\n",
      "tBodyAcc-entropy()-X                    0\n",
      "tBodyAcc-entropy()-Y                    0\n",
      "tBodyAcc-entropy()-Z                    0\n",
      "tBodyAcc-arCoeff()-X,1                  0\n",
      "tBodyAcc-arCoeff()-X,2                  0\n",
      "tBodyAcc-arCoeff()-X,3                  0\n",
      "tBodyAcc-arCoeff()-X,4                  0\n",
      "tBodyAcc-arCoeff()-Y,1                  0\n",
      "                                       ..\n",
      "fBodyBodyGyroMag-sma()                  0\n",
      "fBodyBodyGyroMag-energy()               0\n",
      "fBodyBodyGyroMag-iqr()                  0\n",
      "fBodyBodyGyroMag-entropy()              0\n",
      "fBodyBodyGyroMag-maxInds                0\n",
      "fBodyBodyGyroMag-meanFreq()             0\n",
      "fBodyBodyGyroMag-skewness()             0\n",
      "fBodyBodyGyroMag-kurtosis()             0\n",
      "fBodyBodyGyroJerkMag-mean()             0\n",
      "fBodyBodyGyroJerkMag-std()              0\n",
      "fBodyBodyGyroJerkMag-mad()              0\n",
      "fBodyBodyGyroJerkMag-max()              0\n",
      "fBodyBodyGyroJerkMag-min()              0\n",
      "fBodyBodyGyroJerkMag-sma()              0\n",
      "fBodyBodyGyroJerkMag-energy()           0\n",
      "fBodyBodyGyroJerkMag-iqr()              0\n",
      "fBodyBodyGyroJerkMag-entropy()          0\n",
      "fBodyBodyGyroJerkMag-maxInds            0\n",
      "fBodyBodyGyroJerkMag-meanFreq()         0\n",
      "fBodyBodyGyroJerkMag-skewness()         0\n",
      "fBodyBodyGyroJerkMag-kurtosis()         0\n",
      "angle(tBodyAccMean,gravity)             0\n",
      "angle(tBodyAccJerkMean),gravityMean)    0\n",
      "angle(tBodyGyroMean,gravityMean)        0\n",
      "angle(tBodyGyroJerkMean,gravityMean)    0\n",
      "angle(X,gravityMean)                    0\n",
      "angle(Y,gravityMean)                    0\n",
      "angle(Z,gravityMean)                    0\n",
      "subject                                 0\n",
      "Activity                                0\n",
      "Length: 563, dtype: int64\n",
      "   tBodyAcc-mean()-X  tBodyAcc-mean()-Y  tBodyAcc-mean()-Z  tBodyAcc-std()-X  \\\n",
      "0           0.288585          -0.020294          -0.132905         -0.995279   \n",
      "1           0.278419          -0.016411          -0.123520         -0.998245   \n",
      "2           0.279653          -0.019467          -0.113462         -0.995380   \n",
      "3           0.279174          -0.026201          -0.123283         -0.996091   \n",
      "4           0.276629          -0.016570          -0.115362         -0.998139   \n",
      "\n",
      "   tBodyAcc-std()-Y  tBodyAcc-std()-Z  tBodyAcc-mad()-X  tBodyAcc-mad()-Y  \\\n",
      "0         -0.983111         -0.913526         -0.995112         -0.983185   \n",
      "1         -0.975300         -0.960322         -0.998807         -0.974914   \n",
      "2         -0.967187         -0.978944         -0.996520         -0.963668   \n",
      "3         -0.983403         -0.990675         -0.997099         -0.982750   \n",
      "4         -0.980817         -0.990482         -0.998321         -0.979672   \n",
      "\n",
      "   tBodyAcc-mad()-Z  tBodyAcc-max()-X  ...  fBodyBodyGyroJerkMag-kurtosis()  \\\n",
      "0         -0.923527         -0.934724  ...                        -0.710304   \n",
      "1         -0.957686         -0.943068  ...                        -0.861499   \n",
      "2         -0.977469         -0.938692  ...                        -0.760104   \n",
      "3         -0.989302         -0.938692  ...                        -0.482845   \n",
      "4         -0.990441         -0.942469  ...                        -0.699205   \n",
      "\n",
      "   angle(tBodyAccMean,gravity)  angle(tBodyAccJerkMean),gravityMean)  \\\n",
      "0                    -0.112754                              0.030400   \n",
      "1                     0.053477                             -0.007435   \n",
      "2                    -0.118559                              0.177899   \n",
      "3                    -0.036788                             -0.012892   \n",
      "4                     0.123320                              0.122542   \n",
      "\n",
      "   angle(tBodyGyroMean,gravityMean)  angle(tBodyGyroJerkMean,gravityMean)  \\\n",
      "0                         -0.464761                             -0.018446   \n",
      "1                         -0.732626                              0.703511   \n",
      "2                          0.100699                              0.808529   \n",
      "3                          0.640011                             -0.485366   \n",
      "4                          0.693578                             -0.615971   \n",
      "\n",
      "   angle(X,gravityMean)  angle(Y,gravityMean)  angle(Z,gravityMean)  subject  \\\n",
      "0             -0.841247              0.179941             -0.058627        1   \n",
      "1             -0.844788              0.180289             -0.054317        1   \n",
      "2             -0.848933              0.180637             -0.049118        1   \n",
      "3             -0.848649              0.181935             -0.047663        1   \n",
      "4             -0.847865              0.185151             -0.043892        1   \n",
      "\n",
      "   Activity  \n",
      "0  STANDING  \n",
      "1  STANDING  \n",
      "2  STANDING  \n",
      "3  STANDING  \n",
      "4  STANDING  \n",
      "\n",
      "[5 rows x 563 columns]\n",
      "   tBodyAcc-mean()-X  tBodyAcc-mean()-Y  tBodyAcc-mean()-Z  tBodyAcc-std()-X  \\\n",
      "0           0.257178          -0.023285          -0.014654         -0.938404   \n",
      "1           0.286027          -0.013163          -0.119083         -0.975415   \n",
      "2           0.275485          -0.026050          -0.118152         -0.993819   \n",
      "3           0.270298          -0.032614          -0.117520         -0.994743   \n",
      "4           0.274833          -0.027848          -0.129527         -0.993852   \n",
      "\n",
      "   tBodyAcc-std()-Y  tBodyAcc-std()-Z  tBodyAcc-mad()-X  tBodyAcc-mad()-Y  \\\n",
      "0         -0.920091         -0.667683         -0.952501         -0.925249   \n",
      "1         -0.967458         -0.944958         -0.986799         -0.968401   \n",
      "2         -0.969926         -0.962748         -0.994403         -0.970735   \n",
      "3         -0.973268         -0.967091         -0.995274         -0.974471   \n",
      "4         -0.967445         -0.978295         -0.994111         -0.965953   \n",
      "\n",
      "   tBodyAcc-mad()-Z  tBodyAcc-max()-X  ...  fBodyBodyGyroJerkMag-kurtosis()  \\\n",
      "0         -0.674302         -0.894088  ...                        -0.705974   \n",
      "1         -0.945823         -0.894088  ...                        -0.594944   \n",
      "2         -0.963483         -0.939260  ...                        -0.640736   \n",
      "3         -0.968897         -0.938610  ...                        -0.736124   \n",
      "4         -0.977346         -0.938610  ...                        -0.846595   \n",
      "\n",
      "   angle(tBodyAccMean,gravity)  angle(tBodyAccJerkMean),gravityMean)  \\\n",
      "0                     0.006462                              0.162920   \n",
      "1                    -0.083495                              0.017500   \n",
      "2                    -0.034956                              0.202302   \n",
      "3                    -0.017067                              0.154438   \n",
      "4                    -0.002223                             -0.040046   \n",
      "\n",
      "   angle(tBodyGyroMean,gravityMean)  angle(tBodyGyroJerkMean,gravityMean)  \\\n",
      "0                         -0.825886                              0.271151   \n",
      "1                         -0.434375                              0.920593   \n",
      "2                          0.064103                              0.145068   \n",
      "3                          0.340134                              0.296407   \n",
      "4                          0.736715                             -0.118545   \n",
      "\n",
      "   angle(X,gravityMean)  angle(Y,gravityMean)  angle(Z,gravityMean)  subject  \\\n",
      "0             -0.720009              0.276801             -0.057978        2   \n",
      "1             -0.698091              0.281343             -0.083898        2   \n",
      "2             -0.702771              0.280083             -0.079346        2   \n",
      "3             -0.698954              0.284114             -0.077108        2   \n",
      "4             -0.692245              0.290722             -0.073857        2   \n",
      "\n",
      "   Activity  \n",
      "0  STANDING  \n",
      "1  STANDING  \n",
      "2  STANDING  \n",
      "3  STANDING  \n",
      "4  STANDING  \n",
      "\n",
      "[5 rows x 563 columns]\n",
      "tBodyAcc-mean()-X                       0\n",
      "tBodyAcc-mean()-Y                       0\n",
      "tBodyAcc-mean()-Z                       0\n",
      "tBodyAcc-std()-X                        0\n",
      "tBodyAcc-std()-Y                        0\n",
      "tBodyAcc-std()-Z                        0\n",
      "tBodyAcc-mad()-X                        0\n",
      "tBodyAcc-mad()-Y                        0\n",
      "tBodyAcc-mad()-Z                        0\n",
      "tBodyAcc-max()-X                        0\n",
      "tBodyAcc-max()-Y                        0\n",
      "tBodyAcc-max()-Z                        0\n",
      "tBodyAcc-min()-X                        0\n",
      "tBodyAcc-min()-Y                        0\n",
      "tBodyAcc-min()-Z                        0\n",
      "tBodyAcc-sma()                          0\n",
      "tBodyAcc-energy()-X                     0\n",
      "tBodyAcc-energy()-Y                     0\n",
      "tBodyAcc-energy()-Z                     0\n",
      "tBodyAcc-iqr()-X                        0\n",
      "tBodyAcc-iqr()-Y                        0\n",
      "tBodyAcc-iqr()-Z                        0\n",
      "tBodyAcc-entropy()-X                    0\n",
      "tBodyAcc-entropy()-Y                    0\n",
      "tBodyAcc-entropy()-Z                    0\n",
      "tBodyAcc-arCoeff()-X,1                  0\n",
      "tBodyAcc-arCoeff()-X,2                  0\n",
      "tBodyAcc-arCoeff()-X,3                  0\n",
      "tBodyAcc-arCoeff()-X,4                  0\n",
      "tBodyAcc-arCoeff()-Y,1                  0\n",
      "                                       ..\n",
      "fBodyBodyGyroMag-sma()                  0\n",
      "fBodyBodyGyroMag-energy()               0\n",
      "fBodyBodyGyroMag-iqr()                  0\n",
      "fBodyBodyGyroMag-entropy()              0\n",
      "fBodyBodyGyroMag-maxInds                0\n",
      "fBodyBodyGyroMag-meanFreq()             0\n",
      "fBodyBodyGyroMag-skewness()             0\n",
      "fBodyBodyGyroMag-kurtosis()             0\n",
      "fBodyBodyGyroJerkMag-mean()             0\n",
      "fBodyBodyGyroJerkMag-std()              0\n",
      "fBodyBodyGyroJerkMag-mad()              0\n",
      "fBodyBodyGyroJerkMag-max()              0\n",
      "fBodyBodyGyroJerkMag-min()              0\n",
      "fBodyBodyGyroJerkMag-sma()              0\n",
      "fBodyBodyGyroJerkMag-energy()           0\n",
      "fBodyBodyGyroJerkMag-iqr()              0\n",
      "fBodyBodyGyroJerkMag-entropy()          0\n",
      "fBodyBodyGyroJerkMag-maxInds            0\n",
      "fBodyBodyGyroJerkMag-meanFreq()         0\n",
      "fBodyBodyGyroJerkMag-skewness()         0\n",
      "fBodyBodyGyroJerkMag-kurtosis()         0\n",
      "angle(tBodyAccMean,gravity)             0\n",
      "angle(tBodyAccJerkMean),gravityMean)    0\n",
      "angle(tBodyGyroMean,gravityMean)        0\n",
      "angle(tBodyGyroJerkMean,gravityMean)    0\n",
      "angle(X,gravityMean)                    0\n",
      "angle(Y,gravityMean)                    0\n",
      "angle(Z,gravityMean)                    0\n",
      "subject                                 0\n",
      "Activity                                0\n",
      "Length: 563, dtype: int64\n",
      "   tBodyAcc-mean()-X  tBodyAcc-mean()-Y  tBodyAcc-mean()-Z  tBodyAcc-std()-X  \\\n",
      "0           0.257178          -0.023285          -0.014654         -0.938404   \n",
      "1           0.286027          -0.013163          -0.119083         -0.975415   \n",
      "2           0.275485          -0.026050          -0.118152         -0.993819   \n",
      "3           0.270298          -0.032614          -0.117520         -0.994743   \n",
      "4           0.274833          -0.027848          -0.129527         -0.993852   \n",
      "\n",
      "   tBodyAcc-std()-Y  tBodyAcc-std()-Z  tBodyAcc-mad()-X  tBodyAcc-mad()-Y  \\\n",
      "0         -0.920091         -0.667683         -0.952501         -0.925249   \n",
      "1         -0.967458         -0.944958         -0.986799         -0.968401   \n",
      "2         -0.969926         -0.962748         -0.994403         -0.970735   \n",
      "3         -0.973268         -0.967091         -0.995274         -0.974471   \n",
      "4         -0.967445         -0.978295         -0.994111         -0.965953   \n",
      "\n",
      "   tBodyAcc-mad()-Z  tBodyAcc-max()-X  ...  fBodyBodyGyroJerkMag-kurtosis()  \\\n",
      "0         -0.674302         -0.894088  ...                        -0.705974   \n",
      "1         -0.945823         -0.894088  ...                        -0.594944   \n",
      "2         -0.963483         -0.939260  ...                        -0.640736   \n",
      "3         -0.968897         -0.938610  ...                        -0.736124   \n",
      "4         -0.977346         -0.938610  ...                        -0.846595   \n",
      "\n",
      "   angle(tBodyAccMean,gravity)  angle(tBodyAccJerkMean),gravityMean)  \\\n",
      "0                     0.006462                              0.162920   \n",
      "1                    -0.083495                              0.017500   \n",
      "2                    -0.034956                              0.202302   \n",
      "3                    -0.017067                              0.154438   \n",
      "4                    -0.002223                             -0.040046   \n",
      "\n",
      "   angle(tBodyGyroMean,gravityMean)  angle(tBodyGyroJerkMean,gravityMean)  \\\n",
      "0                         -0.825886                              0.271151   \n",
      "1                         -0.434375                              0.920593   \n",
      "2                          0.064103                              0.145068   \n",
      "3                          0.340134                              0.296407   \n",
      "4                          0.736715                             -0.118545   \n",
      "\n",
      "   angle(X,gravityMean)  angle(Y,gravityMean)  angle(Z,gravityMean)  subject  \\\n",
      "0             -0.720009              0.276801             -0.057978        2   \n",
      "1             -0.698091              0.281343             -0.083898        2   \n",
      "2             -0.702771              0.280083             -0.079346        2   \n",
      "3             -0.698954              0.284114             -0.077108        2   \n",
      "4             -0.692245              0.290722             -0.073857        2   \n",
      "\n",
      "   Activity  \n",
      "0  STANDING  \n",
      "1  STANDING  \n",
      "2  STANDING  \n",
      "3  STANDING  \n",
      "4  STANDING  \n",
      "\n",
      "[5 rows x 563 columns]\n"
     ]
    }
   ],
   "source": [
    "import os\n",
    "from keras import Sequential\n",
    "from keras.layers import Dense, Dropout\n",
    "from sklearn import preprocessing, metrics\n",
    "\n",
    "# Parameters\n",
    "do_grid_search_cv = True\n",
    "do_pca = False\n",
    "\n",
    "import numpy as np\n",
    "import pandas as pd\n",
    "import matplotlib.pyplot as plt\n",
    "\n",
    "def read_data(path, filename):\n",
    "    return pd.read_csv(os.path.join(path, filename))\n",
    "\n",
    "train = read_data('C:/Users/Mirela/PycharmProjects/Human activity/human-activity-recognition-with-smartphones', 'train.csv')\n",
    "print(train.head())\n",
    "print(train.dtypes)\n",
    "\n",
    "print(train.isna().sum())\n",
    "train = train.dropna()\n",
    "print(train.head())\n",
    "\n",
    "test = read_data('C:/Users/Mirela/PycharmProjects/Human activity/human-activity-recognition-with-smartphones', 'test.csv')\n",
    "print(test.head())\n",
    "\n",
    "print(test.isna().sum())\n",
    "test = test.dropna()\n",
    "print(test.head())"
   ]
  },
  {
   "cell_type": "markdown",
   "metadata": {},
   "source": [
    "Preparing the data\n",
    "\n",
    "Vectorized training data &  test data\n",
    "Vectorizing text is the process of transforming text into numeric tensors.\n"
   ]
  },
  {
   "cell_type": "code",
   "execution_count": 25,
   "metadata": {},
   "outputs": [
    {
     "name": "stdout",
     "output_type": "stream",
     "text": [
      "   tBodyAcc-mean()-X  tBodyAcc-mean()-Y  tBodyAcc-mean()-Z  tBodyAcc-std()-X  \\\n",
      "0           0.288585          -0.020294          -0.132905         -0.995279   \n",
      "1           0.278419          -0.016411          -0.123520         -0.998245   \n",
      "2           0.279653          -0.019467          -0.113462         -0.995380   \n",
      "3           0.279174          -0.026201          -0.123283         -0.996091   \n",
      "4           0.276629          -0.016570          -0.115362         -0.998139   \n",
      "\n",
      "   tBodyAcc-std()-Y  tBodyAcc-std()-Z  tBodyAcc-mad()-X  tBodyAcc-mad()-Y  \\\n",
      "0         -0.983111         -0.913526         -0.995112         -0.983185   \n",
      "1         -0.975300         -0.960322         -0.998807         -0.974914   \n",
      "2         -0.967187         -0.978944         -0.996520         -0.963668   \n",
      "3         -0.983403         -0.990675         -0.997099         -0.982750   \n",
      "4         -0.980817         -0.990482         -0.998321         -0.979672   \n",
      "\n",
      "   tBodyAcc-mad()-Z  tBodyAcc-max()-X  ...  fBodyBodyGyroJerkMag-kurtosis()  \\\n",
      "0         -0.923527         -0.934724  ...                        -0.710304   \n",
      "1         -0.957686         -0.943068  ...                        -0.861499   \n",
      "2         -0.977469         -0.938692  ...                        -0.760104   \n",
      "3         -0.989302         -0.938692  ...                        -0.482845   \n",
      "4         -0.990441         -0.942469  ...                        -0.699205   \n",
      "\n",
      "   angle(tBodyAccMean,gravity)  angle(tBodyAccJerkMean),gravityMean)  \\\n",
      "0                    -0.112754                              0.030400   \n",
      "1                     0.053477                             -0.007435   \n",
      "2                    -0.118559                              0.177899   \n",
      "3                    -0.036788                             -0.012892   \n",
      "4                     0.123320                              0.122542   \n",
      "\n",
      "   angle(tBodyGyroMean,gravityMean)  angle(tBodyGyroJerkMean,gravityMean)  \\\n",
      "0                         -0.464761                             -0.018446   \n",
      "1                         -0.732626                              0.703511   \n",
      "2                          0.100699                              0.808529   \n",
      "3                          0.640011                             -0.485366   \n",
      "4                          0.693578                             -0.615971   \n",
      "\n",
      "   angle(X,gravityMean)  angle(Y,gravityMean)  angle(Z,gravityMean)  subject  \\\n",
      "0             -0.841247              0.179941             -0.058627        1   \n",
      "1             -0.844788              0.180289             -0.054317        1   \n",
      "2             -0.848933              0.180637             -0.049118        1   \n",
      "3             -0.848649              0.181935             -0.047663        1   \n",
      "4             -0.847865              0.185151             -0.043892        1   \n",
      "\n",
      "   Activity  \n",
      "0         2  \n",
      "1         2  \n",
      "2         2  \n",
      "3         2  \n",
      "4         2  \n",
      "\n",
      "[5 rows x 563 columns]\n",
      "   tBodyAcc-mean()-X  tBodyAcc-mean()-Y  tBodyAcc-mean()-Z  tBodyAcc-std()-X  \\\n",
      "0           0.257178          -0.023285          -0.014654         -0.938404   \n",
      "1           0.286027          -0.013163          -0.119083         -0.975415   \n",
      "2           0.275485          -0.026050          -0.118152         -0.993819   \n",
      "3           0.270298          -0.032614          -0.117520         -0.994743   \n",
      "4           0.274833          -0.027848          -0.129527         -0.993852   \n",
      "\n",
      "   tBodyAcc-std()-Y  tBodyAcc-std()-Z  tBodyAcc-mad()-X  tBodyAcc-mad()-Y  \\\n",
      "0         -0.920091         -0.667683         -0.952501         -0.925249   \n",
      "1         -0.967458         -0.944958         -0.986799         -0.968401   \n",
      "2         -0.969926         -0.962748         -0.994403         -0.970735   \n",
      "3         -0.973268         -0.967091         -0.995274         -0.974471   \n",
      "4         -0.967445         -0.978295         -0.994111         -0.965953   \n",
      "\n",
      "   tBodyAcc-mad()-Z  tBodyAcc-max()-X  ...  fBodyBodyGyroJerkMag-kurtosis()  \\\n",
      "0         -0.674302         -0.894088  ...                        -0.705974   \n",
      "1         -0.945823         -0.894088  ...                        -0.594944   \n",
      "2         -0.963483         -0.939260  ...                        -0.640736   \n",
      "3         -0.968897         -0.938610  ...                        -0.736124   \n",
      "4         -0.977346         -0.938610  ...                        -0.846595   \n",
      "\n",
      "   angle(tBodyAccMean,gravity)  angle(tBodyAccJerkMean),gravityMean)  \\\n",
      "0                     0.006462                              0.162920   \n",
      "1                    -0.083495                              0.017500   \n",
      "2                    -0.034956                              0.202302   \n",
      "3                    -0.017067                              0.154438   \n",
      "4                    -0.002223                             -0.040046   \n",
      "\n",
      "   angle(tBodyGyroMean,gravityMean)  angle(tBodyGyroJerkMean,gravityMean)  \\\n",
      "0                         -0.825886                              0.271151   \n",
      "1                         -0.434375                              0.920593   \n",
      "2                          0.064103                              0.145068   \n",
      "3                          0.340134                              0.296407   \n",
      "4                          0.736715                             -0.118545   \n",
      "\n",
      "   angle(X,gravityMean)  angle(Y,gravityMean)  angle(Z,gravityMean)  subject  \\\n",
      "0             -0.720009              0.276801             -0.057978        2   \n",
      "1             -0.698091              0.281343             -0.083898        2   \n",
      "2             -0.702771              0.280083             -0.079346        2   \n",
      "3             -0.698954              0.284114             -0.077108        2   \n",
      "4             -0.692245              0.290722             -0.073857        2   \n",
      "\n",
      "   Activity  \n",
      "0         2  \n",
      "1         2  \n",
      "2         2  \n",
      "3         2  \n",
      "4         2  \n",
      "\n",
      "[5 rows x 563 columns]\n"
     ]
    }
   ],
   "source": [
    "# Encode the categorical features as numbers\n",
    "result = train.copy()\n",
    "encoders = {}\n",
    "for column in result.columns:\n",
    "\n",
    "    if result.dtypes[column] == pd.np.object:\n",
    "        encoders[column] = preprocessing.LabelEncoder()\n",
    "        result[column] = encoders[column].fit_transform(result[column])\n",
    "\n",
    "train = result\n",
    "train_names = train.columns.get_values()\n",
    "print(train.head())\n",
    "\n",
    "result = test.copy()\n",
    "encoders = {}\n",
    "for column in result.columns:\n",
    "\n",
    "    if result.dtypes[column] == pd.np.object:\n",
    "        encoders[column] = preprocessing.LabelEncoder()\n",
    "        result[column] = encoders[column].fit_transform(result[column])\n",
    "test = result\n",
    "test_names = test.columns.get_values()\n",
    "print(test.head())"
   ]
  },
  {
   "cell_type": "code",
   "execution_count": 26,
   "metadata": {},
   "outputs": [],
   "source": [
    "train_labels = np.array(train['Activity']) # Create an array.\n",
    "\n",
    "# Remove the labels from the features\n",
    "# axis 1 refers to the columns\n",
    "\n",
    "train_features = train.drop('Activity', axis=1) #  Remove columns by specifying label names and coresponding axis"
   ]
  },
  {
   "cell_type": "code",
   "execution_count": 27,
   "metadata": {},
   "outputs": [],
   "source": [
    "test_labels = np.array(test['Activity']) # Create an array.\n",
    "\n",
    "# Remove the labels from the features\n",
    "# axis 1 refers to the columns\n",
    "\n",
    "test_features = test.drop('Activity', axis=1) #  Remove columns by specifying label names and coresponding axis"
   ]
  },
  {
   "cell_type": "code",
   "execution_count": 28,
   "metadata": {},
   "outputs": [
    {
     "name": "stdout",
     "output_type": "stream",
     "text": [
      "6 classes\n"
     ]
    }
   ],
   "source": [
    "num_classes = np.max(train_labels) + 1\n",
    "print(num_classes, 'classes')"
   ]
  },
  {
   "cell_type": "code",
   "execution_count": 29,
   "metadata": {},
   "outputs": [
    {
     "name": "stdout",
     "output_type": "stream",
     "text": [
      "Training Features Shape: (7352, 562)\n",
      "Training Labels Shape: (7352,)\n",
      "Testing Features Shape: (2947, 562)\n",
      "Testing Labels Shape: (2947,)\n"
     ]
    }
   ],
   "source": [
    "print('Training Features Shape:', train_features.shape)\n",
    "print('Training Labels Shape:', train_labels.shape)\n",
    "print('Testing Features Shape:', test_features.shape)\n",
    "print('Testing Labels Shape:', test_labels.shape)"
   ]
  },
  {
   "cell_type": "markdown",
   "metadata": {},
   "source": [
    "Building my network"
   ]
  },
  {
   "cell_type": "code",
   "execution_count": 30,
   "metadata": {},
   "outputs": [],
   "source": [
    "input_dimensions = train_features.shape[1]\n",
    "optimizer = 'rmsprop'\n",
    "dropout = 0.05\n",
    "model = Sequential()\n",
    "inner_nodes = int(input_dimensions / 2)\n",
    "\n",
    "model.add(Dense(inner_nodes, kernel_initializer='uniform', activation='relu', input_dim=input_dimensions))\n",
    "model.add(Dropout(rate=dropout))\n",
    "model.add(Dense(inner_nodes, kernel_initializer='uniform', activation='relu'))\n",
    "model.add(Dropout(rate=dropout))\n",
    "model.add(Dense(num_classes, kernel_initializer='uniform', activation='softmax'))"
   ]
  },
  {
   "cell_type": "markdown",
   "metadata": {},
   "source": [
    "I ended the network with a Dense layer of size 6. This means for each input sample, the network will output a 6-dimensional vector. Each entry in this vector (each dimension) will encode a different output class.\n",
    "The last layer uses a softmax activation.It means the network will output a probability\n",
    "distribution over the 6 different output classes—for every input sample,\n",
    "the network will produce a 6-dimensional output vector, where output[i] is the probability that the sample belongs to class i. The 6 scores will sum to 1."
   ]
  },
  {
   "cell_type": "code",
   "execution_count": 31,
   "metadata": {},
   "outputs": [],
   "source": [
    "model.compile(loss='sparse_categorical_crossentropy', optimizer=optimizer,\n",
    "                  metrics=['accuracy'])"
   ]
  },
  {
   "cell_type": "markdown",
   "metadata": {},
   "source": [
    "The best loss function to use in this case is categorical_crossentropy.\n",
    "Loos function measures the distance between two probability distributions: here, between the probability distribution output by the network and the true distribution of the labels. By minimizing the distance between these two distributions, you train the\n",
    "network to output something as close as possible to the true labels."
   ]
  },
  {
   "cell_type": "markdown",
   "metadata": {},
   "source": [
    "Validating the approach\n",
    "Training the model"
   ]
  },
  {
   "cell_type": "code",
   "execution_count": 32,
   "metadata": {},
   "outputs": [],
   "source": [
    "EPOCHS = 20\n",
    "\n",
    "history = model.fit(\n",
    "  train_features, train_labels,\n",
    "  epochs=EPOCHS, batch_size=512, validation_split = 0.2, verbose=0)#Trains the model for a given number of epochs (iterations on a dataset)"
   ]
  },
  {
   "cell_type": "code",
   "execution_count": 33,
   "metadata": {},
   "outputs": [
    {
     "name": "stdout",
     "output_type": "stream",
     "text": [
      "    val_loss  val_accuracy      loss  accuracy  epoch\n",
      "15  0.162461      0.935418  0.253721  0.901037     15\n",
      "16  0.229647      0.910945  0.167450  0.930454     16\n",
      "17  0.350724      0.854521  0.155462  0.931984     17\n",
      "18  0.199955      0.920462  0.264853  0.902057     18\n",
      "19  0.339181      0.855880  0.154887  0.931984     19\n"
     ]
    }
   ],
   "source": [
    "hist = pd.DataFrame(history.history)\n",
    "hist['epoch'] = history.epoch\n",
    "print(hist.tail())"
   ]
  },
  {
   "cell_type": "markdown",
   "metadata": {},
   "source": [
    "Let’s display its loss and accuracy curves\n",
    "Training and validation loss & training and validation accuracy\n"
   ]
  },
  {
   "cell_type": "code",
   "execution_count": 34,
   "metadata": {},
   "outputs": [
    {
     "data": {
      "image/png": "[encoded data removed]",
      "text/plain": [
       "<Figure size 432x288 with 1 Axes>"
      ]
     },
     "metadata": {
      "needs_background": "light"
     },
     "output_type": "display_data"
    },
    {
     "data": {
      "image/png": "[encoded data removed]",
      "text/plain": [
       "<Figure size 432x288 with 1 Axes>"
      ]
     },
     "metadata": {
      "needs_background": "light"
     },
     "output_type": "display_data"
    }
   ],
   "source": [
    "#Plotting the training and validation loss\n",
    "\n",
    "import matplotlib.pyplot as plt\n",
    "loss = history.history['loss']\n",
    "val_loss = history.history['val_loss']\n",
    "epochs = range(1, len(loss) + 1)\n",
    "plt.plot(epochs, loss, 'bo', label='Training loss')\n",
    "plt.plot(epochs, val_loss, 'b', label='Validation loss')\n",
    "plt.title('Training and validation loss')\n",
    "plt.xlabel('Epochs')\n",
    "plt.ylabel('Loss')\n",
    "plt.legend()\n",
    "plt.show()\n",
    "\n",
    "#Plotting the training and validation accuracy\n",
    "\n",
    "plt.clf() \n",
    "acc = history.history['accuracy']\n",
    "val_acc = history.history['val_accuracy']\n",
    "plt.plot(epochs, acc, 'bo', label='Training acc')\n",
    "plt.plot(epochs, val_acc, 'b', label='Validation acc')\n",
    "plt.title('Training and validation accuracy')\n",
    "plt.xlabel('Epochs')\n",
    "plt.ylabel('Loss')\n",
    "plt.legend()\n",
    "plt.show()"
   ]
  },
  {
   "cell_type": "code",
   "execution_count": 35,
   "metadata": {},
   "outputs": [
    {
     "name": "stdout",
     "output_type": "stream",
     "text": [
      "2947/2947 [==============================] - 0s 35us/step\n",
      "[0.3768768828721862, 0.8384798169136047]\n"
     ]
    }
   ],
   "source": [
    "results = model.evaluate(test_features, test_labels)\n",
    "print(results)"
   ]
  },
  {
   "cell_type": "markdown",
   "metadata": {},
   "source": [
    "Generating predictions for new data"
   ]
  },
  {
   "cell_type": "code",
   "execution_count": 36,
   "metadata": {},
   "outputs": [],
   "source": [
    "predictions = model.predict(test_features)"
   ]
  },
  {
   "cell_type": "code",
   "execution_count": 37,
   "metadata": {},
   "outputs": [
    {
     "data": {
      "text/plain": [
       "(6,)"
      ]
     },
     "execution_count": 37,
     "metadata": {},
     "output_type": "execute_result"
    }
   ],
   "source": [
    "predictions[0].shape"
   ]
  },
  {
   "cell_type": "markdown",
   "metadata": {},
   "source": [
    "Each entry in predictions is a vector of length 6:"
   ]
  },
  {
   "cell_type": "code",
   "execution_count": 38,
   "metadata": {},
   "outputs": [
    {
     "data": {
      "text/plain": [
       "1.0"
      ]
     },
     "execution_count": 38,
     "metadata": {},
     "output_type": "execute_result"
    }
   ],
   "source": [
    "np.sum(predictions[0])"
   ]
  },
  {
   "cell_type": "markdown",
   "metadata": {},
   "source": [
    "The coefficients in this vector sum to 1:"
   ]
  },
  {
   "cell_type": "code",
   "execution_count": 39,
   "metadata": {},
   "outputs": [
    {
     "data": {
      "text/plain": [
       "2"
      ]
     },
     "execution_count": 39,
     "metadata": {},
     "output_type": "execute_result"
    }
   ],
   "source": [
    "np.argmax(predictions[0])"
   ]
  },
  {
   "cell_type": "markdown",
   "metadata": {},
   "source": [
    "The largest entry is the predicted class—the class with the highest probability"
   ]
  },
  {
   "cell_type": "markdown",
   "metadata": {},
   "source": [
    "Conclusions:\n",
    "    \n",
    "Because I have many classes, this problem is an\n",
    "instance of multiclass classification; and because each data point should be\n",
    "classified into only one category, the problem is more specifically an instance of\n",
    "single-label, multiclass classification.\n",
    "\n",
    "Similarly, evaluation metrics to be used for regression differ from those\n",
    "used for classification; naturally, the concept of accuracy doesn’t apply for\n",
    "regression.\n",
    "\n",
    "I usually need to do quite a bit of preprocessing on your raw data in order to be able to feed it—as tensors—into a neural network. Stacks of Dense layers with relu activations can solve a wide range of problems. In a multiclass classification problem (many output classes).The rmsprop optimizer is generally a good enough choice, whatever the problem. As they get better on their training data, neural networks eventually start overfitting and end up obtaining increasingly worse results on data they’venever seen before. Be sure to always monitor performance on data that is outside of the training set.\n"
   ]
  }
 ],
 "metadata": {
  "kernelspec": {
   "display_name": "Python 3",
   "language": "python",
   "name": "python3"
  },
  "language_info": {
   "codemirror_mode": {
    "name": "ipython",
    "version": 3
   },
   "file_extension": ".py",
   "mimetype": "text/x-python",
   "name": "python",
   "nbconvert_exporter": "python",
   "pygments_lexer": "ipython3",
   "version": "3.7.3"
  }
 },
 "nbformat": 4,
 "nbformat_minor": 1
}
